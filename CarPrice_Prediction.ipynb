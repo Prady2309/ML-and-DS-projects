{
  "nbformat": 4,
  "nbformat_minor": 0,
  "metadata": {
    "colab": {
      "provenance": []
    },
    "kernelspec": {
      "name": "python3",
      "display_name": "Python 3"
    },
    "language_info": {
      "name": "python"
    }
  },
  "cells": [
    {
      "cell_type": "markdown",
      "source": [
        "**CAR PRICE PREDICTION WITH MACHINE LEARNING**"
      ],
      "metadata": {
        "id": "K7NKmFRVNHbH"
      }
    },
    {
      "cell_type": "code",
      "source": [
        "url = 'https://raw.githubusercontent.com/amankharwal/Website-data/master/CarPrice.csv'\n",
        "car = pd.read_csv(url,index_col=0)\n",
        "car.head()"
      ],
      "metadata": {
        "colab": {
          "base_uri": "https://localhost:8080/",
          "height": 383
        },
        "id": "0KPIEopgNUmg",
        "outputId": "d93c8388-4d8e-4914-88db-4327b7ee5253"
      },
      "execution_count": null,
      "outputs": [
        {
          "output_type": "execute_result",
          "data": {
            "text/plain": [
              "        symboling                   CarName fueltype aspiration doornumber  \\\n",
              "car_ID                                                                       \n",
              "1               3        alfa-romero giulia      gas        std        two   \n",
              "2               3       alfa-romero stelvio      gas        std        two   \n",
              "3               1  alfa-romero Quadrifoglio      gas        std        two   \n",
              "4               2               audi 100 ls      gas        std       four   \n",
              "5               2                audi 100ls      gas        std       four   \n",
              "\n",
              "            carbody drivewheel enginelocation  wheelbase  carlength  ...  \\\n",
              "car_ID                                                               ...   \n",
              "1       convertible        rwd          front       88.6      168.8  ...   \n",
              "2       convertible        rwd          front       88.6      168.8  ...   \n",
              "3         hatchback        rwd          front       94.5      171.2  ...   \n",
              "4             sedan        fwd          front       99.8      176.6  ...   \n",
              "5             sedan        4wd          front       99.4      176.6  ...   \n",
              "\n",
              "        enginesize  fuelsystem  boreratio stroke compressionratio  horsepower  \\\n",
              "car_ID                                                                          \n",
              "1              130        mpfi       3.47   2.68              9.0         111   \n",
              "2              130        mpfi       3.47   2.68              9.0         111   \n",
              "3              152        mpfi       2.68   3.47              9.0         154   \n",
              "4              109        mpfi       3.19   3.40             10.0         102   \n",
              "5              136        mpfi       3.19   3.40              8.0         115   \n",
              "\n",
              "       peakrpm  citympg  highwaympg    price  \n",
              "car_ID                                        \n",
              "1         5000       21          27  13495.0  \n",
              "2         5000       21          27  16500.0  \n",
              "3         5000       19          26  16500.0  \n",
              "4         5500       24          30  13950.0  \n",
              "5         5500       18          22  17450.0  \n",
              "\n",
              "[5 rows x 25 columns]"
            ],
            "text/html": [
              "\n",
              "  <div id=\"df-426d7729-cb84-422d-b981-829f0a9fbc27\">\n",
              "    <div class=\"colab-df-container\">\n",
              "      <div>\n",
              "<style scoped>\n",
              "    .dataframe tbody tr th:only-of-type {\n",
              "        vertical-align: middle;\n",
              "    }\n",
              "\n",
              "    .dataframe tbody tr th {\n",
              "        vertical-align: top;\n",
              "    }\n",
              "\n",
              "    .dataframe thead th {\n",
              "        text-align: right;\n",
              "    }\n",
              "</style>\n",
              "<table border=\"1\" class=\"dataframe\">\n",
              "  <thead>\n",
              "    <tr style=\"text-align: right;\">\n",
              "      <th></th>\n",
              "      <th>symboling</th>\n",
              "      <th>CarName</th>\n",
              "      <th>fueltype</th>\n",
              "      <th>aspiration</th>\n",
              "      <th>doornumber</th>\n",
              "      <th>carbody</th>\n",
              "      <th>drivewheel</th>\n",
              "      <th>enginelocation</th>\n",
              "      <th>wheelbase</th>\n",
              "      <th>carlength</th>\n",
              "      <th>...</th>\n",
              "      <th>enginesize</th>\n",
              "      <th>fuelsystem</th>\n",
              "      <th>boreratio</th>\n",
              "      <th>stroke</th>\n",
              "      <th>compressionratio</th>\n",
              "      <th>horsepower</th>\n",
              "      <th>peakrpm</th>\n",
              "      <th>citympg</th>\n",
              "      <th>highwaympg</th>\n",
              "      <th>price</th>\n",
              "    </tr>\n",
              "    <tr>\n",
              "      <th>car_ID</th>\n",
              "      <th></th>\n",
              "      <th></th>\n",
              "      <th></th>\n",
              "      <th></th>\n",
              "      <th></th>\n",
              "      <th></th>\n",
              "      <th></th>\n",
              "      <th></th>\n",
              "      <th></th>\n",
              "      <th></th>\n",
              "      <th></th>\n",
              "      <th></th>\n",
              "      <th></th>\n",
              "      <th></th>\n",
              "      <th></th>\n",
              "      <th></th>\n",
              "      <th></th>\n",
              "      <th></th>\n",
              "      <th></th>\n",
              "      <th></th>\n",
              "      <th></th>\n",
              "    </tr>\n",
              "  </thead>\n",
              "  <tbody>\n",
              "    <tr>\n",
              "      <th>1</th>\n",
              "      <td>3</td>\n",
              "      <td>alfa-romero giulia</td>\n",
              "      <td>gas</td>\n",
              "      <td>std</td>\n",
              "      <td>two</td>\n",
              "      <td>convertible</td>\n",
              "      <td>rwd</td>\n",
              "      <td>front</td>\n",
              "      <td>88.6</td>\n",
              "      <td>168.8</td>\n",
              "      <td>...</td>\n",
              "      <td>130</td>\n",
              "      <td>mpfi</td>\n",
              "      <td>3.47</td>\n",
              "      <td>2.68</td>\n",
              "      <td>9.0</td>\n",
              "      <td>111</td>\n",
              "      <td>5000</td>\n",
              "      <td>21</td>\n",
              "      <td>27</td>\n",
              "      <td>13495.0</td>\n",
              "    </tr>\n",
              "    <tr>\n",
              "      <th>2</th>\n",
              "      <td>3</td>\n",
              "      <td>alfa-romero stelvio</td>\n",
              "      <td>gas</td>\n",
              "      <td>std</td>\n",
              "      <td>two</td>\n",
              "      <td>convertible</td>\n",
              "      <td>rwd</td>\n",
              "      <td>front</td>\n",
              "      <td>88.6</td>\n",
              "      <td>168.8</td>\n",
              "      <td>...</td>\n",
              "      <td>130</td>\n",
              "      <td>mpfi</td>\n",
              "      <td>3.47</td>\n",
              "      <td>2.68</td>\n",
              "      <td>9.0</td>\n",
              "      <td>111</td>\n",
              "      <td>5000</td>\n",
              "      <td>21</td>\n",
              "      <td>27</td>\n",
              "      <td>16500.0</td>\n",
              "    </tr>\n",
              "    <tr>\n",
              "      <th>3</th>\n",
              "      <td>1</td>\n",
              "      <td>alfa-romero Quadrifoglio</td>\n",
              "      <td>gas</td>\n",
              "      <td>std</td>\n",
              "      <td>two</td>\n",
              "      <td>hatchback</td>\n",
              "      <td>rwd</td>\n",
              "      <td>front</td>\n",
              "      <td>94.5</td>\n",
              "      <td>171.2</td>\n",
              "      <td>...</td>\n",
              "      <td>152</td>\n",
              "      <td>mpfi</td>\n",
              "      <td>2.68</td>\n",
              "      <td>3.47</td>\n",
              "      <td>9.0</td>\n",
              "      <td>154</td>\n",
              "      <td>5000</td>\n",
              "      <td>19</td>\n",
              "      <td>26</td>\n",
              "      <td>16500.0</td>\n",
              "    </tr>\n",
              "    <tr>\n",
              "      <th>4</th>\n",
              "      <td>2</td>\n",
              "      <td>audi 100 ls</td>\n",
              "      <td>gas</td>\n",
              "      <td>std</td>\n",
              "      <td>four</td>\n",
              "      <td>sedan</td>\n",
              "      <td>fwd</td>\n",
              "      <td>front</td>\n",
              "      <td>99.8</td>\n",
              "      <td>176.6</td>\n",
              "      <td>...</td>\n",
              "      <td>109</td>\n",
              "      <td>mpfi</td>\n",
              "      <td>3.19</td>\n",
              "      <td>3.40</td>\n",
              "      <td>10.0</td>\n",
              "      <td>102</td>\n",
              "      <td>5500</td>\n",
              "      <td>24</td>\n",
              "      <td>30</td>\n",
              "      <td>13950.0</td>\n",
              "    </tr>\n",
              "    <tr>\n",
              "      <th>5</th>\n",
              "      <td>2</td>\n",
              "      <td>audi 100ls</td>\n",
              "      <td>gas</td>\n",
              "      <td>std</td>\n",
              "      <td>four</td>\n",
              "      <td>sedan</td>\n",
              "      <td>4wd</td>\n",
              "      <td>front</td>\n",
              "      <td>99.4</td>\n",
              "      <td>176.6</td>\n",
              "      <td>...</td>\n",
              "      <td>136</td>\n",
              "      <td>mpfi</td>\n",
              "      <td>3.19</td>\n",
              "      <td>3.40</td>\n",
              "      <td>8.0</td>\n",
              "      <td>115</td>\n",
              "      <td>5500</td>\n",
              "      <td>18</td>\n",
              "      <td>22</td>\n",
              "      <td>17450.0</td>\n",
              "    </tr>\n",
              "  </tbody>\n",
              "</table>\n",
              "<p>5 rows × 25 columns</p>\n",
              "</div>\n",
              "      <button class=\"colab-df-convert\" onclick=\"convertToInteractive('df-426d7729-cb84-422d-b981-829f0a9fbc27')\"\n",
              "              title=\"Convert this dataframe to an interactive table.\"\n",
              "              style=\"display:none;\">\n",
              "        \n",
              "  <svg xmlns=\"http://www.w3.org/2000/svg\" height=\"24px\"viewBox=\"0 0 24 24\"\n",
              "       width=\"24px\">\n",
              "    <path d=\"M0 0h24v24H0V0z\" fill=\"none\"/>\n",
              "    <path d=\"M18.56 5.44l.94 2.06.94-2.06 2.06-.94-2.06-.94-.94-2.06-.94 2.06-2.06.94zm-11 1L8.5 8.5l.94-2.06 2.06-.94-2.06-.94L8.5 2.5l-.94 2.06-2.06.94zm10 10l.94 2.06.94-2.06 2.06-.94-2.06-.94-.94-2.06-.94 2.06-2.06.94z\"/><path d=\"M17.41 7.96l-1.37-1.37c-.4-.4-.92-.59-1.43-.59-.52 0-1.04.2-1.43.59L10.3 9.45l-7.72 7.72c-.78.78-.78 2.05 0 2.83L4 21.41c.39.39.9.59 1.41.59.51 0 1.02-.2 1.41-.59l7.78-7.78 2.81-2.81c.8-.78.8-2.07 0-2.86zM5.41 20L4 18.59l7.72-7.72 1.47 1.35L5.41 20z\"/>\n",
              "  </svg>\n",
              "      </button>\n",
              "      \n",
              "  <style>\n",
              "    .colab-df-container {\n",
              "      display:flex;\n",
              "      flex-wrap:wrap;\n",
              "      gap: 12px;\n",
              "    }\n",
              "\n",
              "    .colab-df-convert {\n",
              "      background-color: #E8F0FE;\n",
              "      border: none;\n",
              "      border-radius: 50%;\n",
              "      cursor: pointer;\n",
              "      display: none;\n",
              "      fill: #1967D2;\n",
              "      height: 32px;\n",
              "      padding: 0 0 0 0;\n",
              "      width: 32px;\n",
              "    }\n",
              "\n",
              "    .colab-df-convert:hover {\n",
              "      background-color: #E2EBFA;\n",
              "      box-shadow: 0px 1px 2px rgba(60, 64, 67, 0.3), 0px 1px 3px 1px rgba(60, 64, 67, 0.15);\n",
              "      fill: #174EA6;\n",
              "    }\n",
              "\n",
              "    [theme=dark] .colab-df-convert {\n",
              "      background-color: #3B4455;\n",
              "      fill: #D2E3FC;\n",
              "    }\n",
              "\n",
              "    [theme=dark] .colab-df-convert:hover {\n",
              "      background-color: #434B5C;\n",
              "      box-shadow: 0px 1px 3px 1px rgba(0, 0, 0, 0.15);\n",
              "      filter: drop-shadow(0px 1px 2px rgba(0, 0, 0, 0.3));\n",
              "      fill: #FFFFFF;\n",
              "    }\n",
              "  </style>\n",
              "\n",
              "      <script>\n",
              "        const buttonEl =\n",
              "          document.querySelector('#df-426d7729-cb84-422d-b981-829f0a9fbc27 button.colab-df-convert');\n",
              "        buttonEl.style.display =\n",
              "          google.colab.kernel.accessAllowed ? 'block' : 'none';\n",
              "\n",
              "        async function convertToInteractive(key) {\n",
              "          const element = document.querySelector('#df-426d7729-cb84-422d-b981-829f0a9fbc27');\n",
              "          const dataTable =\n",
              "            await google.colab.kernel.invokeFunction('convertToInteractive',\n",
              "                                                     [key], {});\n",
              "          if (!dataTable) return;\n",
              "\n",
              "          const docLinkHtml = 'Like what you see? Visit the ' +\n",
              "            '<a target=\"_blank\" href=https://colab.research.google.com/notebooks/data_table.ipynb>data table notebook</a>'\n",
              "            + ' to learn more about interactive tables.';\n",
              "          element.innerHTML = '';\n",
              "          dataTable['output_type'] = 'display_data';\n",
              "          await google.colab.output.renderOutput(dataTable, element);\n",
              "          const docLink = document.createElement('div');\n",
              "          docLink.innerHTML = docLinkHtml;\n",
              "          element.appendChild(docLink);\n",
              "        }\n",
              "      </script>\n",
              "    </div>\n",
              "  </div>\n",
              "  "
            ]
          },
          "metadata": {},
          "execution_count": 35
        }
      ]
    },
    {
      "cell_type": "code",
      "source": [
        "car.isnull().sum()"
      ],
      "metadata": {
        "colab": {
          "base_uri": "https://localhost:8080/"
        },
        "id": "yxT4rPzcNUo7",
        "outputId": "8e1e4a73-c142-440b-b3db-56908abd54d9"
      },
      "execution_count": null,
      "outputs": [
        {
          "output_type": "execute_result",
          "data": {
            "text/plain": [
              "symboling           0\n",
              "CarName             0\n",
              "fueltype            0\n",
              "aspiration          0\n",
              "doornumber          0\n",
              "carbody             0\n",
              "drivewheel          0\n",
              "enginelocation      0\n",
              "wheelbase           0\n",
              "carlength           0\n",
              "carwidth            0\n",
              "carheight           0\n",
              "curbweight          0\n",
              "enginetype          0\n",
              "cylindernumber      0\n",
              "enginesize          0\n",
              "fuelsystem          0\n",
              "boreratio           0\n",
              "stroke              0\n",
              "compressionratio    0\n",
              "horsepower          0\n",
              "peakrpm             0\n",
              "citympg             0\n",
              "highwaympg          0\n",
              "price               0\n",
              "dtype: int64"
            ]
          },
          "metadata": {},
          "execution_count": 36
        }
      ]
    },
    {
      "cell_type": "code",
      "source": [
        "sns.heatmap(car.corr())"
      ],
      "metadata": {
        "colab": {
          "base_uri": "https://localhost:8080/",
          "height": 362
        },
        "id": "5wD7IlF2NUr_",
        "outputId": "0f28a7bb-5297-41e8-8056-f8980ff38fd6"
      },
      "execution_count": null,
      "outputs": [
        {
          "output_type": "execute_result",
          "data": {
            "text/plain": [
              "<Axes: >"
            ]
          },
          "metadata": {},
          "execution_count": 37
        },
        {
          "output_type": "display_data",
          "data": {
            "text/plain": [
              "<Figure size 432x288 with 2 Axes>"
            ],
            "image/png": "[encoded data removed]"
          },
          "metadata": {
            "needs_background": "light"
          }
        }
      ]
    },
    {
      "cell_type": "code",
      "source": [
        "plt.figure(figsize=(15, 10))\n",
        "sns.distplot(car.price)\n",
        "plt.show()"
      ],
      "metadata": {
        "colab": {
          "base_uri": "https://localhost:8080/",
          "height": 832
        },
        "id": "LAqrvWtECH1f",
        "outputId": "2a5d5dd6-ffff-46df-e8d9-47bfff021da5"
      },
      "execution_count": null,
      "outputs": [
        {
          "output_type": "stream",
          "name": "stderr",
          "text": [
            "<ipython-input-38-c093081fefa9>:2: UserWarning:\n",
            "\n",
            "\n",
            "\n",
            "`distplot` is a deprecated function and will be removed in seaborn v0.14.0.\n",
            "\n",
            "Please adapt your code to use either `displot` (a figure-level function with\n",
            "similar flexibility) or `histplot` (an axes-level function for histograms).\n",
            "\n",
            "For a guide to updating your code to use the new functions, please see\n",
            "https://gist.github.com/mwaskom/de44147ed2974457ad6372750bbe5751\n",
            "\n",
            "\n"
          ]
        },
        {
          "output_type": "display_data",
          "data": {
            "text/plain": [
              "<Figure size 1080x720 with 1 Axes>"
            ],
            "image/png": "[encoded data removed]"
          },
          "metadata": {
            "needs_background": "light"
          }
        }
      ]
    },
    {
      "cell_type": "code",
      "source": [
        "x1 = car[[\"symboling\", \"wheelbase\", \"carlength\", \"carwidth\", \"carheight\", \"enginesize\", \"boreratio\", \n",
        "          \"stroke\", \"compressionratio\", \"horsepower\", \"peakrpm\", \"citympg\", \"highwaympg\"]]\n",
        "y1 = car['price']             "
      ],
      "metadata": {
        "id": "l1_QcGpkCH4I"
      },
      "execution_count": null,
      "outputs": []
    },
    {
      "cell_type": "code",
      "source": [
        "print(x1)"
      ],
      "metadata": {
        "colab": {
          "base_uri": "https://localhost:8080/"
        },
        "id": "1MHUq1AUCH6t",
        "outputId": "ab13083c-c768-451d-857b-02892f3622ab"
      },
      "execution_count": null,
      "outputs": [
        {
          "output_type": "stream",
          "name": "stdout",
          "text": [
            "        symboling  wheelbase  carlength  carwidth  carheight  enginesize  \\\n",
            "car_ID                                                                     \n",
            "1               3       88.6      168.8      64.1       48.8         130   \n",
            "2               3       88.6      168.8      64.1       48.8         130   \n",
            "3               1       94.5      171.2      65.5       52.4         152   \n",
            "4               2       99.8      176.6      66.2       54.3         109   \n",
            "5               2       99.4      176.6      66.4       54.3         136   \n",
            "...           ...        ...        ...       ...        ...         ...   \n",
            "201            -1      109.1      188.8      68.9       55.5         141   \n",
            "202            -1      109.1      188.8      68.8       55.5         141   \n",
            "203            -1      109.1      188.8      68.9       55.5         173   \n",
            "204            -1      109.1      188.8      68.9       55.5         145   \n",
            "205            -1      109.1      188.8      68.9       55.5         141   \n",
            "\n",
            "        boreratio  stroke  compressionratio  horsepower  peakrpm  citympg  \\\n",
            "car_ID                                                                      \n",
            "1            3.47    2.68               9.0         111     5000       21   \n",
            "2            3.47    2.68               9.0         111     5000       21   \n",
            "3            2.68    3.47               9.0         154     5000       19   \n",
            "4            3.19    3.40              10.0         102     5500       24   \n",
            "5            3.19    3.40               8.0         115     5500       18   \n",
            "...           ...     ...               ...         ...      ...      ...   \n",
            "201          3.78    3.15               9.5         114     5400       23   \n",
            "202          3.78    3.15               8.7         160     5300       19   \n",
            "203          3.58    2.87               8.8         134     5500       18   \n",
            "204          3.01    3.40              23.0         106     4800       26   \n",
            "205          3.78    3.15               9.5         114     5400       19   \n",
            "\n",
            "        highwaympg  \n",
            "car_ID              \n",
            "1               27  \n",
            "2               27  \n",
            "3               26  \n",
            "4               30  \n",
            "5               22  \n",
            "...            ...  \n",
            "201             28  \n",
            "202             25  \n",
            "203             23  \n",
            "204             27  \n",
            "205             25  \n",
            "\n",
            "[205 rows x 13 columns]\n"
          ]
        }
      ]
    },
    {
      "cell_type": "code",
      "source": [
        "print(y1)"
      ],
      "metadata": {
        "id": "m7duQrECNUt8",
        "colab": {
          "base_uri": "https://localhost:8080/"
        },
        "outputId": "2df802aa-02e5-4e12-8755-84782eeea4e0"
      },
      "execution_count": null,
      "outputs": [
        {
          "output_type": "stream",
          "name": "stdout",
          "text": [
            "car_ID\n",
            "1      13495.0\n",
            "2      16500.0\n",
            "3      16500.0\n",
            "4      13950.0\n",
            "5      17450.0\n",
            "        ...   \n",
            "201    16845.0\n",
            "202    19045.0\n",
            "203    21485.0\n",
            "204    22470.0\n",
            "205    22625.0\n",
            "Name: price, Length: 205, dtype: float64\n"
          ]
        }
      ]
    },
    {
      "cell_type": "code",
      "source": [
        "from sklearn.linear_model import LinearRegression"
      ],
      "metadata": {
        "id": "yZ3Oz7yTFZLl"
      },
      "execution_count": null,
      "outputs": []
    },
    {
      "cell_type": "code",
      "source": [
        "x_train, x_test, y_train, y_test = train_test_split(x1,y1,test_size=0.3,random_state=0)"
      ],
      "metadata": {
        "id": "_a7VaIbCFZOU"
      },
      "execution_count": null,
      "outputs": []
    },
    {
      "cell_type": "code",
      "source": [
        "x_train.shape"
      ],
      "metadata": {
        "colab": {
          "base_uri": "https://localhost:8080/"
        },
        "id": "NhoCDoiwFZQx",
        "outputId": "773a0d00-57da-4e44-c359-40b2c1ed2340"
      },
      "execution_count": null,
      "outputs": [
        {
          "output_type": "execute_result",
          "data": {
            "text/plain": [
              "(143, 13)"
            ]
          },
          "metadata": {},
          "execution_count": 44
        }
      ]
    },
    {
      "cell_type": "code",
      "source": [
        "x_test.shape"
      ],
      "metadata": {
        "colab": {
          "base_uri": "https://localhost:8080/"
        },
        "id": "E1c8M5n1FZTb",
        "outputId": "7eb34fc6-1356-453a-f0d5-6d14bc113ba2"
      },
      "execution_count": null,
      "outputs": [
        {
          "output_type": "execute_result",
          "data": {
            "text/plain": [
              "(62, 13)"
            ]
          },
          "metadata": {},
          "execution_count": 45
        }
      ]
    },
    {
      "cell_type": "code",
      "source": [
        "model = LinearRegression()\n",
        "model.fit(x_train,y_train)\n",
        "y_pred = model.predict(x_test)"
      ],
      "metadata": {
        "id": "70E-qUJsF5ly"
      },
      "execution_count": null,
      "outputs": []
    },
    {
      "cell_type": "code",
      "source": [
        "y_test"
      ],
      "metadata": {
        "colab": {
          "base_uri": "https://localhost:8080/"
        },
        "id": "2XRf2A9jGY9x",
        "outputId": "ff156454-dc09-451f-f675-ea841344460a"
      },
      "execution_count": null,
      "outputs": [
        {
          "output_type": "execute_result",
          "data": {
            "text/plain": [
              "car_ID\n",
              "53      6795.0\n",
              "182    15750.0\n",
              "6      15250.0\n",
              "19      5151.0\n",
              "189     9995.0\n",
              "        ...   \n",
              "199    18420.0\n",
              "144     9960.0\n",
              "25      6229.0\n",
              "31      6479.0\n",
              "136    15510.0\n",
              "Name: price, Length: 62, dtype: float64"
            ]
          },
          "metadata": {},
          "execution_count": 47
        }
      ]
    },
    {
      "cell_type": "code",
      "source": [
        "y_pred"
      ],
      "metadata": {
        "colab": {
          "base_uri": "https://localhost:8080/"
        },
        "id": "B0E4fOh3GXRR",
        "outputId": "06ee093b-e9ce-40b4-d316-8a31f819500f"
      },
      "execution_count": null,
      "outputs": [
        {
          "output_type": "execute_result",
          "data": {
            "text/plain": [
              "array([ 6293.03823847, 19288.41048301, 16324.07611347, -1879.86836145,\n",
              "       11987.29820619, 13799.0548626 ,  5577.46289989,  6000.25030504,\n",
              "       22639.68520575,  8191.41555671, 16585.1632182 , 36589.01609331,\n",
              "       10269.17653414, 14491.15197905,  4854.17813389, 13799.0548626 ,\n",
              "       10287.03149587, 19101.00197457,  9703.8736105 ,  6461.11140206,\n",
              "       11497.25803722, 18280.05159549, 10933.03880121, 13799.0548626 ,\n",
              "       22888.98240843,  8619.92474249,  6518.83187139, 18472.85974143,\n",
              "        6637.34443429,  6213.52623458, 10515.3359717 , 10680.60779551,\n",
              "       21297.83318119,  8059.76592461,  6213.52623458, 26405.51314573,\n",
              "       11430.76101938, 17991.73870213,  6708.94057553, 38745.05714029,\n",
              "        5315.5318772 , 16223.94224506, 30872.04902955, 19615.74070603,\n",
              "       10957.38481327,  6598.23994808,  6674.90204437, 15493.966228  ,\n",
              "        9675.92742835, 10515.3359717 , 19374.42924226,  6557.95027357,\n",
              "        5823.96817343, 10057.41281265, 19578.37428411, 22700.0704682 ,\n",
              "       12125.55299542, 16180.59265296, 11217.33442927,  6674.90204437,\n",
              "         238.48100299, 14642.54256314])"
            ]
          },
          "metadata": {},
          "execution_count": 48
        }
      ]
    },
    {
      "cell_type": "code",
      "source": [
        "import math\n",
        "from sklearn.metrics import mean_squared_error\n",
        "rmse = math.sqrt(mean_squared_error(y_test, y_pred))\n",
        "print(rmse)"
      ],
      "metadata": {
        "colab": {
          "base_uri": "https://localhost:8080/"
        },
        "id": "YZdw9vDVFZVw",
        "outputId": "05ec701a-8a41-443f-8d11-c5cda886dc01"
      },
      "execution_count": null,
      "outputs": [
        {
          "output_type": "stream",
          "name": "stdout",
          "text": [
            "3421.121509356688\n"
          ]
        }
      ]
    },
    {
      "cell_type": "code",
      "source": [
        "from sklearn.metrics import r2_score\n",
        "score=r2_score(y_test,y_pred)\n",
        "print(score)"
      ],
      "metadata": {
        "colab": {
          "base_uri": "https://localhost:8080/"
        },
        "id": "AVRIEastF5je",
        "outputId": "48c2b6a7-1058-4425-8cf2-b3be397cdaf3"
      },
      "execution_count": null,
      "outputs": [
        {
          "output_type": "stream",
          "name": "stdout",
          "text": [
            "0.8227659233703783\n"
          ]
        }
      ]
    },
    {
      "cell_type": "code",
      "source": [
        "print('Slope:' , model.coef_)\n",
        "print('Intercept:' , model.intercept_)"
      ],
      "metadata": {
        "colab": {
          "base_uri": "https://localhost:8080/"
        },
        "id": "MsN7qJPQGTNV",
        "outputId": "fa777efd-fd38-47b0-efe6-2e87491f8b59"
      },
      "execution_count": null,
      "outputs": [
        {
          "output_type": "stream",
          "name": "stdout",
          "text": [
            "Slope: [ 4.61353743e+02  2.22053937e+02 -9.88632508e+01  5.85480223e+02\n",
            "  1.70192656e+02  1.09741485e+02 -1.03607912e+03 -3.47576528e+03\n",
            "  3.93047914e+02  4.06879883e+01  2.13792554e+00 -5.02762857e+02\n",
            "  2.84324873e+02]\n",
            "Intercept: -54018.6803985911\n"
          ]
        }
      ]
    }
  ]
}